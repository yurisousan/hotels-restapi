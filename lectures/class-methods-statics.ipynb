{
 "cells": [
  {
   "cell_type": "markdown",
   "metadata": {},
   "source": [
    "## Class Methods and Statics"
   ]
  },
  {
   "cell_type": "code",
   "execution_count": 2,
   "metadata": {},
   "outputs": [
    {
     "data": {
      "text/plain": [
       "{'name': 'Yuri', 'salary': 7280.0}"
      ]
     },
     "execution_count": 2,
     "metadata": {},
     "output_type": "execute_result"
    }
   ],
   "source": [
    "## template class\n",
    "class Employee:\n",
    "\n",
    "    raised = 1.04\n",
    "\n",
    "    def __init__(self, name, salary):\n",
    "        self.name = name\n",
    "        self.salary = salary\n",
    "\n",
    "    def data(self):\n",
    "        return{'name': self.name, 'salary': self.salary}\n",
    "    \n",
    "    def apply_raise(self):\n",
    "        self.salary = self.salary * self.raised\n",
    "\n",
    "yuri = Employee('Yuri', 7000)\n",
    "yuri.apply_raise()\n",
    "yuri.data()"
   ]
  },
  {
   "cell_type": "code",
   "execution_count": 3,
   "metadata": {},
   "outputs": [
    {
     "data": {
      "text/plain": [
       "{'name': 'Yuri', 'salary': 7350.0}"
      ]
     },
     "execution_count": 3,
     "metadata": {},
     "output_type": "execute_result"
    }
   ],
   "source": [
    "# if I want to use a class method I will put a decorator and change the behavior of my class\n",
    "class Employee:\n",
    "\n",
    "    raised = 1.04\n",
    "\n",
    "    def __init__(self, name, salary):\n",
    "        self.name = name\n",
    "        self.salary = salary\n",
    "\n",
    "    def data(self):\n",
    "        return{'name': self.name, 'salary': self.salary}\n",
    "    \n",
    "    def apply_raise(self):\n",
    "        self.salary = self.salary * self.raised\n",
    "\n",
    "    # stuff like that\n",
    "    @classmethod\n",
    "    def define_raise(cls, new_raise):\n",
    "        cls.raised = new_raise\n",
    "\n",
    "# so when I need to call my class with this new classmathod\n",
    "Employee.define_raise(1.05) # 5%\n",
    "\n",
    "# so, when I create a new instance of this class\n",
    "yuri = Employee('Yuri', 7000)\n",
    "yuri.apply_raise()\n",
    "yuri.data()"
   ]
  },
  {
   "cell_type": "code",
   "execution_count": 5,
   "metadata": {},
   "outputs": [
    {
     "data": {
      "text/plain": [
       "False"
      ]
     },
     "execution_count": 5,
     "metadata": {},
     "output_type": "execute_result"
    }
   ],
   "source": [
    "import datetime\n",
    "\n",
    "my_date = datetime.date(2023, 12, 4)\n",
    "# static method dont receive any parameter\n",
    "class Employee:\n",
    "\n",
    "    raised = 1.04\n",
    "\n",
    "    def __init__(self, name, salary):\n",
    "        self.name = name\n",
    "        self.salary = salary\n",
    "\n",
    "    def data(self):\n",
    "        return{'name': self.name, 'salary': self.salary}\n",
    "    \n",
    "    def apply_raise(self):\n",
    "        self.salary = self.salary * self.raised\n",
    "\n",
    "    # is inside the class but dont have a strict relationship with it.\n",
    "    # I can set a value from outside of this class\n",
    "    @staticmethod\n",
    "    def util_day(day):\n",
    "        # monday is 0\n",
    "        # sunday is 6\n",
    "        if day.weekday() == 5 or day.weekday() == 6:\n",
    "            return False\n",
    "        return True\n",
    "    \n",
    "# a example\n",
    "Employee.util_day(my_date)\n"
   ]
  }
 ],
 "metadata": {
  "kernelspec": {
   "display_name": "Python 3",
   "language": "python",
   "name": "python3"
  },
  "language_info": {
   "codemirror_mode": {
    "name": "ipython",
    "version": 3
   },
   "file_extension": ".py",
   "mimetype": "text/x-python",
   "name": "python",
   "nbconvert_exporter": "python",
   "pygments_lexer": "ipython3",
   "version": "3.10.12"
  }
 },
 "nbformat": 4,
 "nbformat_minor": 2
}
