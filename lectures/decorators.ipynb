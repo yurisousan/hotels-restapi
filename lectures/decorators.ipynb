{
 "cells": [
  {
   "cell_type": "markdown",
   "metadata": {},
   "source": [
    "## Decorators"
   ]
  },
  {
   "cell_type": "code",
   "execution_count": 1,
   "metadata": {},
   "outputs": [
    {
     "name": "stdout",
     "output_type": "stream",
     "text": [
      "*****Packing something with this function received\n",
      "I'm a function\n",
      "*****Closing packing\n"
     ]
    }
   ],
   "source": [
    "# a decorator is a function that package another function and return it\n",
    "# lets se an example\n",
    "# I will create a new decorator\n",
    "import functools\n",
    "\n",
    "def packagefunc(function):\n",
    "    # I need to use functools to wrap my function\n",
    "    @functools.wraps(function)\n",
    "    # So I create something that I need to do to this function before tor return it to my class, and some stuff like that\n",
    "    def func_that_run_function():\n",
    "        print(\"*****Packing something with this function received\")\n",
    "        function()\n",
    "        print(\"*****Closing packing\")\n",
    "    return func_that_run_function\n",
    "\n",
    "# So to use that, is the same of another decorators\n",
    "@packagefunc\n",
    "def my_function():\n",
    "    print(\"I'm a function\")\n",
    "\n",
    "my_function()"
   ]
  }
 ],
 "metadata": {
  "kernelspec": {
   "display_name": "Python 3",
   "language": "python",
   "name": "python3"
  },
  "language_info": {
   "codemirror_mode": {
    "name": "ipython",
    "version": 3
   },
   "file_extension": ".py",
   "mimetype": "text/x-python",
   "name": "python",
   "nbconvert_exporter": "python",
   "pygments_lexer": "ipython3",
   "version": "3.10.12"
  }
 },
 "nbformat": 4,
 "nbformat_minor": 2
}
