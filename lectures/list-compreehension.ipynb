{
 "cells": [
  {
   "cell_type": "markdown",
   "metadata": {},
   "source": [
    "## List Comprehension"
   ]
  },
  {
   "cell_type": "code",
   "execution_count": 3,
   "metadata": {},
   "outputs": [
    {
     "data": {
      "text/plain": [
       "[0, 1, 8, 27, 64]"
      ]
     },
     "execution_count": 3,
     "metadata": {},
     "output_type": "execute_result"
    }
   ],
   "source": [
    "# sintax: [result for element in range(5)]\n",
    "[x ** 3 for x in range(5)]"
   ]
  },
  {
   "cell_type": "code",
   "execution_count": 5,
   "metadata": {},
   "outputs": [
    {
     "name": "stdout",
     "output_type": "stream",
     "text": [
      "[0, 2, 4, 6, 8, 10]\n",
      "[1, 3, 5, 7, 9]\n"
     ]
    }
   ],
   "source": [
    "# get the even number in a range\n",
    "# % is used for get the rest\n",
    "# 10 % 3 = 1 (1 here is the rest of 10 = 3, 3, 3 = 9 rest 1)\n",
    "# so:\n",
    "\n",
    "print([n for n in range (11) if n % 2 == 0])\n",
    "\n",
    "# if I want do get odd numbers, I just need to change my rest requirement\n",
    "print([n for n in range (11) if n % 2 == 1])\n",
    "# to change the comprehension for sets, just need to change the \"[]\" to \"{}\"\n"
   ]
  },
  {
   "cell_type": "code",
   "execution_count": 6,
   "metadata": {},
   "outputs": [
    {
     "data": {
      "text/plain": [
       "'Ana'"
      ]
     },
     "execution_count": 6,
     "metadata": {},
     "output_type": "execute_result"
    }
   ],
   "source": [
    "# another amazin functions\n",
    "ana = ' Ana '\n",
    "\n",
    "ana.strip() # remove spaces\n",
    "ana.lower() # lower case the string\n",
    "ana.upper() # uppercase string\n",
    "ana.capitalize() # uppercase he first caracter\n",
    "ana.strip().capitalize() # use functions together"
   ]
  },
  {
   "cell_type": "code",
   "execution_count": 9,
   "metadata": {},
   "outputs": [
    {
     "data": {
      "text/plain": [
       "['Ana', 'Manuella', 'Felipe', 'Pedr0']"
      ]
     },
     "execution_count": 9,
     "metadata": {},
     "output_type": "execute_result"
    }
   ],
   "source": [
    "# a exercise:\n",
    "pessoas = [' Ana ', 'manuella', 'FELIPe', 'Pedr0']\n",
    "pessoas_normalizadas = [pessoa.strip().capitalize() for pessoa in pessoas]\n",
    "pessoas_normalizadas"
   ]
  }
 ],
 "metadata": {
  "kernelspec": {
   "display_name": "Python 3",
   "language": "python",
   "name": "python3"
  },
  "language_info": {
   "codemirror_mode": {
    "name": "ipython",
    "version": 3
   },
   "file_extension": ".py",
   "mimetype": "text/x-python",
   "name": "python",
   "nbconvert_exporter": "python",
   "pygments_lexer": "ipython3",
   "version": "3.10.12"
  }
 },
 "nbformat": 4,
 "nbformat_minor": 2
}
