{
 "cells": [
  {
   "cell_type": "markdown",
   "metadata": {},
   "source": [
    "## **args and **kwargs"
   ]
  },
  {
   "cell_type": "code",
   "execution_count": 1,
   "metadata": {},
   "outputs": [
    {
     "data": {
      "text/plain": [
       "42"
      ]
     },
     "execution_count": 1,
     "metadata": {},
     "output_type": "execute_result"
    }
   ],
   "source": [
    "# args = arguments\n",
    "# kwargs = keyword arguments\n",
    "\n",
    "def my_method(arg1, arg2):\n",
    "    return arg1 + arg2\n",
    "\n",
    "# but let say that I need to put more arguments in my method\n",
    "def simple_plus(*args):\n",
    "    return sum(args)\n",
    "\n",
    "# so here we have the result\n",
    "\n",
    "simple_plus(2,4,5,6,7,8,9,1)"
   ]
  },
  {
   "cell_type": "code",
   "execution_count": 2,
   "metadata": {},
   "outputs": [
    {
     "name": "stdout",
     "output_type": "stream",
     "text": [
      "{'name': 'Yuri', 'age': '29'}\n"
     ]
    }
   ],
   "source": [
    "# using kwargs we have a keyword as and argument\n",
    "def kwargs_method(**kwargs):\n",
    "    print(kwargs)\n",
    "\n",
    "# when I define it in my function call, we have this\n",
    "kwargs_method(name='Yuri', age='29')"
   ]
  },
  {
   "cell_type": "markdown",
   "metadata": {},
   "source": [
    "## Important NOTE: Always use *args before **kwargs"
   ]
  }
 ],
 "metadata": {
  "kernelspec": {
   "display_name": "Python 3",
   "language": "python",
   "name": "python3"
  },
  "language_info": {
   "codemirror_mode": {
    "name": "ipython",
    "version": 3
   },
   "file_extension": ".py",
   "mimetype": "text/x-python",
   "name": "python",
   "nbconvert_exporter": "python",
   "pygments_lexer": "ipython3",
   "version": "3.10.12"
  }
 },
 "nbformat": 4,
 "nbformat_minor": 2
}
