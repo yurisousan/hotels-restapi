{
 "cells": [
  {
   "cell_type": "markdown",
   "metadata": {},
   "source": [
    "## Heritage"
   ]
  },
  {
   "cell_type": "code",
   "execution_count": 1,
   "metadata": {},
   "outputs": [
    {
     "data": {
      "text/plain": [
       "{'name': 'Yuri', 'salary': 7000}"
      ]
     },
     "execution_count": 1,
     "metadata": {},
     "output_type": "execute_result"
    }
   ],
   "source": [
    "# we want an Administrator and an Employee with some thing equals and anothers diferents\n",
    "# for each type of employee\n",
    "# Employee can see your data and Admin can update some data\n",
    "\n",
    "class Employee():\n",
    "    def __init__(self, name, salary):\n",
    "        self.name = name\n",
    "        self.salary = salary\n",
    "\n",
    "    def data(self):\n",
    "        return {'name': self.name, 'salary': self.salary}\n",
    "    \n",
    "yuri = Employee('Yuri', 7000)\n",
    "yuri.data()"
   ]
  },
  {
   "cell_type": "code",
   "execution_count": 2,
   "metadata": {},
   "outputs": [
    {
     "data": {
      "text/plain": [
       "{'name': 'Manuella', 'salary': 14000}"
      ]
     },
     "execution_count": 2,
     "metadata": {},
     "output_type": "execute_result"
    }
   ],
   "source": [
    "# to use the same things from Employee class for our admin\n",
    "class Admin(Employee):\n",
    "    def __init__(self, name, salary):\n",
    "        super().__init__(name, salary) # super() reffer to Employee class and use the same parameters\n",
    "\n",
    "    def update_data(self, name):\n",
    "        self.name = name\n",
    "        return self.data()\n",
    "\n",
    "manu = Admin('Manu', 14000)\n",
    "yuri.data()\n",
    "manu.data()\n",
    "manu.update_data('Manuella')\n",
    "manu.data()"
   ]
  }
 ],
 "metadata": {
  "kernelspec": {
   "display_name": "Python 3",
   "language": "python",
   "name": "python3"
  },
  "language_info": {
   "codemirror_mode": {
    "name": "ipython",
    "version": 3
   },
   "file_extension": ".py",
   "mimetype": "text/x-python",
   "name": "python",
   "nbconvert_exporter": "python",
   "pygments_lexer": "ipython3",
   "version": "3.10.12"
  }
 },
 "nbformat": 4,
 "nbformat_minor": 2
}
