{
 "cells": [
  {
   "cell_type": "markdown",
   "metadata": {},
   "source": [
    "## Class and Objects"
   ]
  },
  {
   "cell_type": "code",
   "execution_count": 2,
   "metadata": {},
   "outputs": [
    {
     "data": {
      "text/plain": [
       "241"
      ]
     },
     "execution_count": 2,
     "metadata": {},
     "output_type": "execute_result"
    }
   ],
   "source": [
    "# class is a model or a respresentation of a object\n",
    "# object is an instance of a class\n",
    "class LoteryPlayer:\n",
    "    def __init__(self, name, numbers):\n",
    "        self.name = name\n",
    "        self.numbers = set(numbers)\n",
    "\n",
    "    def total(self):\n",
    "        return sum(self.numbers)\n",
    "\n",
    "players_1 = LoteryPlayer('Pedro', (13,4,52,23,67,82))\n",
    "players_1.total()"
   ]
  }
 ],
 "metadata": {
  "kernelspec": {
   "display_name": "Python 3",
   "language": "python",
   "name": "python3"
  },
  "language_info": {
   "codemirror_mode": {
    "name": "ipython",
    "version": 3
   },
   "file_extension": ".py",
   "mimetype": "text/x-python",
   "name": "python",
   "nbconvert_exporter": "python",
   "pygments_lexer": "ipython3",
   "version": "3.10.12"
  }
 },
 "nbformat": 4,
 "nbformat_minor": 2
}
